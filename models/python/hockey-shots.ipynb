{
 "cells": [
  {
   "cell_type": "markdown",
   "metadata": {},
   "source": [
    "# Expected goal probabily of shots in NHL\n",
    "\n",
    "The goal is to obtain a measure of the expected goal probability based on data about a given shot"
   ]
  },
  {
   "cell_type": "code",
   "execution_count": 19,
   "metadata": {},
   "outputs": [],
   "source": [
    "import pandas as pd\n",
    "import numpy as np\n",
    "import matplotlib.pyplot as plt"
   ]
  },
  {
   "cell_type": "markdown",
   "metadata": {},
   "source": [
    "### Read in CSV data\n",
    "\n",
    "Data obtained from moneypuck.com\n",
    "\n",
    "The data already contains the authors own result of an expected goal model "
   ]
  },
  {
   "cell_type": "code",
   "execution_count": 20,
   "metadata": {},
   "outputs": [],
   "source": [
    "df_shots = pd.read_csv('../../data/shots_2007-2016.csv')"
   ]
  },
  {
   "cell_type": "code",
   "execution_count": 21,
   "metadata": {},
   "outputs": [
    {
     "data": {
      "text/html": [
       "<div>\n",
       "<style scoped>\n",
       "    .dataframe tbody tr th:only-of-type {\n",
       "        vertical-align: middle;\n",
       "    }\n",
       "\n",
       "    .dataframe tbody tr th {\n",
       "        vertical-align: top;\n",
       "    }\n",
       "\n",
       "    .dataframe thead th {\n",
       "        text-align: right;\n",
       "    }\n",
       "</style>\n",
       "<table border=\"1\" class=\"dataframe\">\n",
       "  <thead>\n",
       "    <tr style=\"text-align: right;\">\n",
       "      <th></th>\n",
       "      <th>shotID</th>\n",
       "      <th>homeTeamCode</th>\n",
       "      <th>awayTeamCode</th>\n",
       "      <th>season</th>\n",
       "      <th>isPlayoffGame</th>\n",
       "      <th>game_id</th>\n",
       "      <th>homeTeamWon</th>\n",
       "      <th>id</th>\n",
       "      <th>time</th>\n",
       "      <th>timeUntilNextEvent</th>\n",
       "      <th>...</th>\n",
       "      <th>arenaAdjustedXCordOnIce</th>\n",
       "      <th>isHomeTeam</th>\n",
       "      <th>shotWasOnGoal</th>\n",
       "      <th>xGoal</th>\n",
       "      <th>xFroze</th>\n",
       "      <th>xRebound</th>\n",
       "      <th>xPlayContinuedInZone</th>\n",
       "      <th>xPlayContinuedOutsideZone</th>\n",
       "      <th>xPlayStopped</th>\n",
       "      <th>xShotWasOnGoal</th>\n",
       "    </tr>\n",
       "  </thead>\n",
       "  <tbody>\n",
       "    <tr>\n",
       "      <th>0</th>\n",
       "      <td>0</td>\n",
       "      <td>L.A</td>\n",
       "      <td>ANA</td>\n",
       "      <td>2007</td>\n",
       "      <td>0</td>\n",
       "      <td>20001</td>\n",
       "      <td>1</td>\n",
       "      <td>4</td>\n",
       "      <td>17</td>\n",
       "      <td>8</td>\n",
       "      <td>...</td>\n",
       "      <td>-68.0</td>\n",
       "      <td>1</td>\n",
       "      <td>1</td>\n",
       "      <td>0.061818</td>\n",
       "      <td>0.121819</td>\n",
       "      <td>0.050838</td>\n",
       "      <td>0.446188</td>\n",
       "      <td>0.298706</td>\n",
       "      <td>0.020630</td>\n",
       "      <td>0.713983</td>\n",
       "    </tr>\n",
       "    <tr>\n",
       "      <th>1</th>\n",
       "      <td>1</td>\n",
       "      <td>L.A</td>\n",
       "      <td>ANA</td>\n",
       "      <td>2007</td>\n",
       "      <td>0</td>\n",
       "      <td>20001</td>\n",
       "      <td>1</td>\n",
       "      <td>6</td>\n",
       "      <td>52</td>\n",
       "      <td>22</td>\n",
       "      <td>...</td>\n",
       "      <td>38.0</td>\n",
       "      <td>0</td>\n",
       "      <td>0</td>\n",
       "      <td>0.013928</td>\n",
       "      <td>0.192039</td>\n",
       "      <td>0.039734</td>\n",
       "      <td>0.440897</td>\n",
       "      <td>0.293636</td>\n",
       "      <td>0.019766</td>\n",
       "      <td>0.652187</td>\n",
       "    </tr>\n",
       "    <tr>\n",
       "      <th>2</th>\n",
       "      <td>2</td>\n",
       "      <td>L.A</td>\n",
       "      <td>ANA</td>\n",
       "      <td>2007</td>\n",
       "      <td>0</td>\n",
       "      <td>20001</td>\n",
       "      <td>1</td>\n",
       "      <td>8</td>\n",
       "      <td>86</td>\n",
       "      <td>20</td>\n",
       "      <td>...</td>\n",
       "      <td>67.0</td>\n",
       "      <td>0</td>\n",
       "      <td>1</td>\n",
       "      <td>0.029313</td>\n",
       "      <td>0.109528</td>\n",
       "      <td>0.043757</td>\n",
       "      <td>0.467555</td>\n",
       "      <td>0.334535</td>\n",
       "      <td>0.015313</td>\n",
       "      <td>0.632221</td>\n",
       "    </tr>\n",
       "    <tr>\n",
       "      <th>3</th>\n",
       "      <td>3</td>\n",
       "      <td>L.A</td>\n",
       "      <td>ANA</td>\n",
       "      <td>2007</td>\n",
       "      <td>0</td>\n",
       "      <td>20001</td>\n",
       "      <td>1</td>\n",
       "      <td>13</td>\n",
       "      <td>188</td>\n",
       "      <td>0</td>\n",
       "      <td>...</td>\n",
       "      <td>-64.0</td>\n",
       "      <td>1</td>\n",
       "      <td>1</td>\n",
       "      <td>0.028618</td>\n",
       "      <td>0.179013</td>\n",
       "      <td>0.032494</td>\n",
       "      <td>0.356352</td>\n",
       "      <td>0.384244</td>\n",
       "      <td>0.019279</td>\n",
       "      <td>0.742654</td>\n",
       "    </tr>\n",
       "    <tr>\n",
       "      <th>4</th>\n",
       "      <td>4</td>\n",
       "      <td>L.A</td>\n",
       "      <td>ANA</td>\n",
       "      <td>2007</td>\n",
       "      <td>0</td>\n",
       "      <td>20001</td>\n",
       "      <td>1</td>\n",
       "      <td>17</td>\n",
       "      <td>242</td>\n",
       "      <td>3</td>\n",
       "      <td>...</td>\n",
       "      <td>54.0</td>\n",
       "      <td>0</td>\n",
       "      <td>1</td>\n",
       "      <td>0.004015</td>\n",
       "      <td>0.204370</td>\n",
       "      <td>0.044636</td>\n",
       "      <td>0.497285</td>\n",
       "      <td>0.229197</td>\n",
       "      <td>0.020498</td>\n",
       "      <td>0.749917</td>\n",
       "    </tr>\n",
       "  </tbody>\n",
       "</table>\n",
       "<p>5 rows × 134 columns</p>\n",
       "</div>"
      ],
      "text/plain": [
       "   shotID homeTeamCode awayTeamCode  season  isPlayoffGame  game_id  \\\n",
       "0       0          L.A          ANA    2007              0    20001   \n",
       "1       1          L.A          ANA    2007              0    20001   \n",
       "2       2          L.A          ANA    2007              0    20001   \n",
       "3       3          L.A          ANA    2007              0    20001   \n",
       "4       4          L.A          ANA    2007              0    20001   \n",
       "\n",
       "   homeTeamWon  id  time  timeUntilNextEvent       ...        \\\n",
       "0            1   4    17                   8       ...         \n",
       "1            1   6    52                  22       ...         \n",
       "2            1   8    86                  20       ...         \n",
       "3            1  13   188                   0       ...         \n",
       "4            1  17   242                   3       ...         \n",
       "\n",
       "   arenaAdjustedXCordOnIce  isHomeTeam shotWasOnGoal     xGoal    xFroze  \\\n",
       "0                    -68.0           1             1  0.061818  0.121819   \n",
       "1                     38.0           0             0  0.013928  0.192039   \n",
       "2                     67.0           0             1  0.029313  0.109528   \n",
       "3                    -64.0           1             1  0.028618  0.179013   \n",
       "4                     54.0           0             1  0.004015  0.204370   \n",
       "\n",
       "   xRebound  xPlayContinuedInZone  xPlayContinuedOutsideZone  xPlayStopped  \\\n",
       "0  0.050838              0.446188                   0.298706      0.020630   \n",
       "1  0.039734              0.440897                   0.293636      0.019766   \n",
       "2  0.043757              0.467555                   0.334535      0.015313   \n",
       "3  0.032494              0.356352                   0.384244      0.019279   \n",
       "4  0.044636              0.497285                   0.229197      0.020498   \n",
       "\n",
       "   xShotWasOnGoal  \n",
       "0        0.713983  \n",
       "1        0.652187  \n",
       "2        0.632221  \n",
       "3        0.742654  \n",
       "4        0.749917  \n",
       "\n",
       "[5 rows x 134 columns]"
      ]
     },
     "execution_count": 21,
     "metadata": {},
     "output_type": "execute_result"
    }
   ],
   "source": [
    "df_shots.head()"
   ]
  },
  {
   "cell_type": "code",
   "execution_count": 22,
   "metadata": {},
   "outputs": [
    {
     "data": {
      "text/plain": [
       "<matplotlib.axes._subplots.AxesSubplot at 0x11c1d1860>"
      ]
     },
     "execution_count": 22,
     "metadata": {},
     "output_type": "execute_result"
    },
    {
     "data": {
      "image/png": "[encoded data removed]",
      "text/plain": [
       "<Figure size 432x288 with 1 Axes>"
      ]
     },
     "metadata": {},
     "output_type": "display_data"
    }
   ],
   "source": [
    "df_shots['goal'].plot.hist(bins=2)"
   ]
  },
  {
   "cell_type": "code",
   "execution_count": 23,
   "metadata": {},
   "outputs": [],
   "source": [
    "shotPredictors = [\"shotType\", \"shotOnEmptyNet\", \"shotRush\", \"shotRebound\",\n",
    "                  \"shotDistance\", \"shotAngleAdjusted\"] "
   ]
  },
  {
   "cell_type": "code",
   "execution_count": 24,
   "metadata": {},
   "outputs": [],
   "source": [
    "y = df_shots.loc[:,'goal']\n",
    "X = df_shots[shotPredictors]"
   ]
  },
  {
   "cell_type": "code",
   "execution_count": 25,
   "metadata": {},
   "outputs": [
    {
     "data": {
      "text/plain": [
       "0    0\n",
       "1    0\n",
       "2    0\n",
       "3    0\n",
       "4    0\n",
       "Name: goal, dtype: int64"
      ]
     },
     "execution_count": 25,
     "metadata": {},
     "output_type": "execute_result"
    }
   ],
   "source": [
    "y.head()"
   ]
  },
  {
   "cell_type": "code",
   "execution_count": 26,
   "metadata": {},
   "outputs": [],
   "source": [
    "pd.options.mode.chained_assignment = None\n",
    "X['shotType'] = X.shotType.astype('category')\n",
    "# X['shotOnEmptyNet'] = X.shotOnEmptyNet.astype('category')\n",
    "# X['shotRush'] = X.shotRush.astype('category')\n",
    "# X['shotRebound'] = X.shotRebound.astype('category')"
   ]
  },
  {
   "cell_type": "code",
   "execution_count": 27,
   "metadata": {},
   "outputs": [
    {
     "name": "stdout",
     "output_type": "stream",
     "text": [
      "['WRIST' 'BACK' 'SLAP' 'TIP' 'SNAP' 'WRAP' 'DEFL' nan]\n",
      "\n",
      "WRIST    490080\n",
      "SLAP     241426\n",
      "SNAP     149731\n",
      "BACK      80364\n",
      "TIP       61454\n",
      "DEFL      19657\n",
      "WRAP      11344\n",
      "Name: shotType, dtype: int64\n",
      "\n",
      "[WRIST, BACK, SLAP, TIP, SNAP, WRAP, DEFL, NaN]\n",
      "Categories (7, object): [WRIST, BACK, SLAP, TIP, SNAP, WRAP, DEFL]\n",
      "\n",
      "WRIST    490080\n",
      "SLAP     241426\n",
      "SNAP     149731\n",
      "BACK      80364\n",
      "TIP       61454\n",
      "DEFL      19657\n",
      "WRAP      11344\n",
      "Name: shotType, dtype: int64\n"
     ]
    }
   ],
   "source": [
    "print(df_shots['shotType'].unique())\n",
    "print()\n",
    "print(df_shots.shotType.value_counts())\n",
    "print()\n",
    "print(X['shotType'].unique())\n",
    "print()\n",
    "print(X.shotType.value_counts())"
   ]
  },
  {
   "cell_type": "code",
   "execution_count": 28,
   "metadata": {},
   "outputs": [
    {
     "name": "stdout",
     "output_type": "stream",
     "text": [
      "{0: 'BACK', 1: 'DEFL', 2: 'SLAP', 3: 'SNAP', 4: 'TIP', 5: 'WRAP', 6: 'WRIST'}\n"
     ]
    }
   ],
   "source": [
    "shotTypeLabels = dict( enumerate(X['shotType'].cat.categories) )\n",
    "print(shotTypeLabels)"
   ]
  },
  {
   "cell_type": "code",
   "execution_count": 47,
   "metadata": {},
   "outputs": [
    {
     "name": "stdout",
     "output_type": "stream",
     "text": [
      "{'BACK': 0, 'DEFL': 1, 'SLAP': 2, 'SNAP': 3, 'TIP': 4, 'WRAP': 5, 'WRIST': 6}\n"
     ]
    }
   ],
   "source": [
    "shotTypeLabelsBack = {v: k for k, v in shotTypeLabels.items()}\n",
    "print(shotTypeLabelsBack)"
   ]
  },
  {
   "cell_type": "code",
   "execution_count": 29,
   "metadata": {},
   "outputs": [],
   "source": [
    "X[\"shotTypeCode\"] = X[\"shotType\"].cat.codes"
   ]
  },
  {
   "cell_type": "code",
   "execution_count": 30,
   "metadata": {},
   "outputs": [
    {
     "data": {
      "text/plain": [
       "shotType             category\n",
       "shotOnEmptyNet          int64\n",
       "shotRush                int64\n",
       "shotRebound             int64\n",
       "shotDistance          float64\n",
       "shotAngleAdjusted     float64\n",
       "shotTypeCode             int8\n",
       "dtype: object"
      ]
     },
     "execution_count": 30,
     "metadata": {},
     "output_type": "execute_result"
    }
   ],
   "source": [
    "X.dtypes"
   ]
  },
  {
   "cell_type": "code",
   "execution_count": 31,
   "metadata": {},
   "outputs": [],
   "source": [
    "shotPredictors = [\"shotTypeCode\", \"shotOnEmptyNet\", \"shotRush\", \"shotRebound\",\n",
    "                  \"shotDistance\", \"shotAngleAdjusted\"] \n",
    "X_final = X[shotPredictors]"
   ]
  },
  {
   "cell_type": "code",
   "execution_count": 32,
   "metadata": {},
   "outputs": [
    {
     "data": {
      "text/plain": [
       "shotTypeCode            int8\n",
       "shotOnEmptyNet         int64\n",
       "shotRush               int64\n",
       "shotRebound            int64\n",
       "shotDistance         float64\n",
       "shotAngleAdjusted    float64\n",
       "dtype: object"
      ]
     },
     "execution_count": 32,
     "metadata": {},
     "output_type": "execute_result"
    }
   ],
   "source": [
    "X_final.dtypes"
   ]
  },
  {
   "cell_type": "code",
   "execution_count": 33,
   "metadata": {},
   "outputs": [
    {
     "name": "stdout",
     "output_type": "stream",
     "text": [
      "(737888, 6)\n",
      "(316239, 6)\n"
     ]
    }
   ],
   "source": [
    "from sklearn.model_selection import train_test_split\n",
    "X_train, X_test, y_train, y_test = train_test_split(X_final, y, test_size=0.3, random_state=0)\n",
    "print(X_train.shape)\n",
    "print(X_test.shape)"
   ]
  },
  {
   "cell_type": "code",
   "execution_count": 34,
   "metadata": {},
   "outputs": [],
   "source": [
    "from sklearn.linear_model import LogisticRegression\n",
    "logreg = LogisticRegression()"
   ]
  },
  {
   "cell_type": "code",
   "execution_count": 35,
   "metadata": {},
   "outputs": [
    {
     "data": {
      "text/plain": [
       "LogisticRegression(C=1.0, class_weight=None, dual=False, fit_intercept=True,\n",
       "          intercept_scaling=1, max_iter=100, multi_class='ovr', n_jobs=1,\n",
       "          penalty='l2', random_state=None, solver='liblinear', tol=0.0001,\n",
       "          verbose=0, warm_start=False)"
      ]
     },
     "execution_count": 35,
     "metadata": {},
     "output_type": "execute_result"
    }
   ],
   "source": [
    "logreg.fit(X_train, y_train)"
   ]
  },
  {
   "cell_type": "code",
   "execution_count": 36,
   "metadata": {},
   "outputs": [
    {
     "name": "stdout",
     "output_type": "stream",
     "text": [
      "Accuracy of logistic regression classifier on training set: 0.94\n"
     ]
    }
   ],
   "source": [
    "print('Accuracy of logistic regression classifier on training set: {:.2f}'.format(logreg.score(X_train, y_train)))"
   ]
  },
  {
   "cell_type": "code",
   "execution_count": 37,
   "metadata": {},
   "outputs": [
    {
     "name": "stdout",
     "output_type": "stream",
     "text": [
      "Accuracy of logistic regression classifier on test set: 0.94\n"
     ]
    }
   ],
   "source": [
    "y_pred = logreg.predict(X_test)\n",
    "print('Accuracy of logistic regression classifier on test set: {:.2f}'.format(logreg.score(X_test, y_test)))"
   ]
  },
  {
   "cell_type": "code",
   "execution_count": 38,
   "metadata": {},
   "outputs": [
    {
     "data": {
      "text/plain": [
       "array([[0.89072991, 0.10927009],\n",
       "       [0.97627625, 0.02372375],\n",
       "       [0.94144647, 0.05855353],\n",
       "       ...,\n",
       "       [0.92626558, 0.07373442],\n",
       "       [0.9622459 , 0.0377541 ],\n",
       "       [0.9798766 , 0.0201234 ]])"
      ]
     },
     "execution_count": 38,
     "metadata": {},
     "output_type": "execute_result"
    }
   ],
   "source": [
    "y_pred_proba = logreg.predict_proba(X_test)\n",
    "y_pred_proba"
   ]
  },
  {
   "cell_type": "code",
   "execution_count": 39,
   "metadata": {},
   "outputs": [
    {
     "name": "stdout",
     "output_type": "stream",
     "text": [
      "10-fold cross validation average accuracy: 0.935\n"
     ]
    }
   ],
   "source": [
    "from sklearn import model_selection\n",
    "from sklearn.model_selection import cross_val_score\n",
    "kfold = model_selection.KFold(n_splits=10, random_state=7)\n",
    "modelCV = LogisticRegression()\n",
    "scoring = 'accuracy'\n",
    "results = model_selection.cross_val_score(modelCV, X_train, y_train, cv=kfold, scoring=scoring)\n",
    "print(\"10-fold cross validation average accuracy: %.3f\" % (results.mean()))"
   ]
  },
  {
   "cell_type": "code",
   "execution_count": 40,
   "metadata": {},
   "outputs": [
    {
     "name": "stdout",
     "output_type": "stream",
     "text": [
      "[[295749    272]\n",
      " [ 19666    552]]\n"
     ]
    }
   ],
   "source": [
    "from sklearn.metrics import confusion_matrix\n",
    "confusion_matrix = confusion_matrix(y_test, y_pred)\n",
    "print(confusion_matrix)"
   ]
  },
  {
   "cell_type": "code",
   "execution_count": 41,
   "metadata": {},
   "outputs": [
    {
     "name": "stdout",
     "output_type": "stream",
     "text": [
      "             precision    recall  f1-score   support\n",
      "\n",
      "          0       0.94      1.00      0.97    296021\n",
      "          1       0.67      0.03      0.05     20218\n",
      "\n",
      "avg / total       0.92      0.94      0.91    316239\n",
      "\n"
     ]
    }
   ],
   "source": [
    "from sklearn.metrics import classification_report\n",
    "print(classification_report(y_test, y_pred))"
   ]
  },
  {
   "cell_type": "code",
   "execution_count": 42,
   "metadata": {},
   "outputs": [
    {
     "data": {
      "image/png": "[encoded data removed]",
      "text/plain": [
       "<Figure size 432x288 with 1 Axes>"
      ]
     },
     "metadata": {},
     "output_type": "display_data"
    }
   ],
   "source": [
    "from sklearn.metrics import roc_auc_score\n",
    "from sklearn.metrics import roc_curve\n",
    "logit_roc_auc = roc_auc_score(y_test, logreg.predict(X_test))\n",
    "fpr, tpr, thresholds = roc_curve(y_test, logreg.predict_proba(X_test)[:,1])\n",
    "plt.figure()\n",
    "plt.plot(fpr, tpr, label='Logistic Regression (area = %0.2f)' % logit_roc_auc)\n",
    "plt.plot([0, 1], [0, 1],'r--')\n",
    "plt.xlim([0.0, 1.0])\n",
    "plt.ylim([0.0, 1.05])\n",
    "plt.xlabel('False Positive Rate')\n",
    "plt.ylabel('True Positive Rate')\n",
    "plt.title('Receiver operating characteristic')\n",
    "plt.legend(loc=\"lower right\")\n",
    "plt.savefig('Log_ROC')\n",
    "plt.show()"
   ]
  },
  {
   "cell_type": "markdown",
   "metadata": {},
   "source": [
    "# Save the data for our deployment script\n",
    "\n",
    "We need to save the model to disk for deployment"
   ]
  },
  {
   "cell_type": "code",
   "execution_count": 44,
   "metadata": {},
   "outputs": [
    {
     "data": {
      "text/plain": [
       "['./objects/shot_labels.pkl']"
      ]
     },
     "execution_count": 44,
     "metadata": {},
     "output_type": "execute_result"
    }
   ],
   "source": [
    "from sklearn.externals import joblib\n",
    "joblib.dump(logreg, './objects/log_reg_model.pkl') \n",
    "joblib.dump(shotTypeLabelsBack, './objects/shot_labels.pkl')"
   ]
  },
  {
   "cell_type": "code",
   "execution_count": null,
   "metadata": {},
   "outputs": [],
   "source": []
  }
 ],
 "metadata": {
  "kernelspec": {
   "display_name": "Python 3",
   "language": "python",
   "name": "python3"
  },
  "language_info": {
   "codemirror_mode": {
    "name": "ipython",
    "version": 3
   },
   "file_extension": ".py",
   "mimetype": "text/x-python",
   "name": "python",
   "nbconvert_exporter": "python",
   "pygments_lexer": "ipython3",
   "version": "3.6.3"
  }
 },
 "nbformat": 4,
 "nbformat_minor": 2
}
